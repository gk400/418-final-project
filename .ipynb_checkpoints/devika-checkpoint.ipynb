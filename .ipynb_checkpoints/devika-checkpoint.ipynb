{
 "cells": [
  {
   "cell_type": "code",
   "execution_count": 42,
   "metadata": {},
   "outputs": [],
   "source": [
    "import pandas as pd\n",
    "import numpy as np\n",
    "import requests\n",
    "import matplotlib.pyplot as plt"
   ]
  },
  {
   "cell_type": "code",
   "execution_count": 56,
   "metadata": {
    "tags": [
     "outputPrepend"
    ]
   },
   "outputs": [],
   "source": [
    "# Summer range: 1946-06-21 to 2020-09-22\n",
    "# Winter range: 1945-12-21 to 2020-03-20\n",
    "years = range(1946,2021)\n",
    "summer_start = '06-21'\n",
    "summer_end = '09-22'\n",
    "winter_start = '12-21'\n",
    "winter_end = '03-20'\n",
    "summer_dates = []\n",
    "winter_dates = []\n",
    "for y in years:\n",
    "    ss = str(y) + '-' + summer_start\n",
    "    se = str(y) + '-' + summer_end\n",
    "    ws = str(y-1) + '-' + winter_start\n",
    "    we = str(y) + '-' + winter_end\n",
    "    summer = pd.date_range(ss, se, freq = 'D')\n",
    "    for s in summer:\n",
    "        summer_dates.append(str(s.date()))\n",
    "    winter = pd.date_range(ws, we, freq = 'D')\n",
    "    for w in winter:\n",
    "        winter_dates.append(str(w.date()))"
   ]
  },
  {
   "cell_type": "code",
   "execution_count": 57,
   "metadata": {},
   "outputs": [],
   "source": [
    "col_titles = [\"date\", \"min\", \"avg\", \"max\"]\n",
    "test_winter_df = pd.DataFrame(columns=col_titles)\n",
    "test_summer_df = pd.DataFrame(columns=col_titles)\n",
    "\n",
    "def getData(df, date):\n",
    "    \"\"\" Takes in a dataframe and the date and inserts the min, avg, and\n",
    "        max temperatures of that date to the dataframe. \"\"\"\n",
    "\n",
    "    url = requests.get(\"https://www.almanac.com/weather/history/IL/Chicago/\" + date)\n",
    "    content = url.text\n",
    "    # soup = BeautifulSoup(content, 'html5lib')\n",
    "    html = pd.read_html(content, header=0)[0]\n",
    "\n",
    "    html[\"date\"] = date\n",
    "    data = [html.iloc[0][2], html.iloc[0][1], html.iloc[1][1], html.iloc[2][1]]\n",
    "    df.loc[len(df)] = data\n",
    "    "
   ]
  },
  {
   "cell_type": "code",
   "execution_count": 59,
   "metadata": {},
   "outputs": [],
   "source": [
    "batch = range(0, len(winter_dates), 1000)\n",
    "\n",
    "for dates in [winter_dates[i : i + 1000] for i in batch]:\n",
    "    for date in dates:\n",
    "        getData(winter_df, date)\n",
    "#winter_df.to_csv(\"winter_data.csv\")"
   ]
  },
  {
   "cell_type": "code",
   "execution_count": 72,
   "metadata": {},
   "outputs": [
    {
     "data": {
      "text/html": [
       "<div>\n",
       "<style scoped>\n",
       "    .dataframe tbody tr th:only-of-type {\n",
       "        vertical-align: middle;\n",
       "    }\n",
       "\n",
       "    .dataframe tbody tr th {\n",
       "        vertical-align: top;\n",
       "    }\n",
       "\n",
       "    .dataframe thead th {\n",
       "        text-align: right;\n",
       "    }\n",
       "</style>\n",
       "<table border=\"1\" class=\"dataframe\">\n",
       "  <thead>\n",
       "    <tr style=\"text-align: right;\">\n",
       "      <th></th>\n",
       "      <th>date</th>\n",
       "      <th>min</th>\n",
       "      <th>avg</th>\n",
       "      <th>max</th>\n",
       "    </tr>\n",
       "  </thead>\n",
       "  <tbody>\n",
       "    <tr>\n",
       "      <th>0</th>\n",
       "      <td>12/21/45</td>\n",
       "      <td>-0.9 °F</td>\n",
       "      <td>6.0 °F</td>\n",
       "      <td>12.0 °F</td>\n",
       "    </tr>\n",
       "    <tr>\n",
       "      <th>1</th>\n",
       "      <td>12/22/45</td>\n",
       "      <td>1.0 °F</td>\n",
       "      <td>7.4 °F</td>\n",
       "      <td>12.9 °F</td>\n",
       "    </tr>\n",
       "    <tr>\n",
       "      <th>2</th>\n",
       "      <td>12/23/45</td>\n",
       "      <td>9.0 °F</td>\n",
       "      <td>19.2 °F</td>\n",
       "      <td>23.0 °F</td>\n",
       "    </tr>\n",
       "    <tr>\n",
       "      <th>3</th>\n",
       "      <td>12/24/45</td>\n",
       "      <td>19.9 °F</td>\n",
       "      <td>23.6 °F</td>\n",
       "      <td>30.0 °F</td>\n",
       "    </tr>\n",
       "    <tr>\n",
       "      <th>4</th>\n",
       "      <td>12/25/45</td>\n",
       "      <td>27.0 °F</td>\n",
       "      <td>31.8 °F</td>\n",
       "      <td>37.0 °F</td>\n",
       "    </tr>\n",
       "    <tr>\n",
       "      <th>...</th>\n",
       "      <td>...</td>\n",
       "      <td>...</td>\n",
       "      <td>...</td>\n",
       "      <td>...</td>\n",
       "    </tr>\n",
       "    <tr>\n",
       "      <th>6764</th>\n",
       "      <td>3/16/20</td>\n",
       "      <td>33.1 °F</td>\n",
       "      <td>35.6 °F</td>\n",
       "      <td>39.9 °F</td>\n",
       "    </tr>\n",
       "    <tr>\n",
       "      <th>6765</th>\n",
       "      <td>3/17/20</td>\n",
       "      <td>34.0 °F</td>\n",
       "      <td>38.9 °F</td>\n",
       "      <td>41.4 °F</td>\n",
       "    </tr>\n",
       "    <tr>\n",
       "      <th>6766</th>\n",
       "      <td>3/18/20</td>\n",
       "      <td>35.1 °F</td>\n",
       "      <td>37.9 °F</td>\n",
       "      <td>42.1 °F</td>\n",
       "    </tr>\n",
       "    <tr>\n",
       "      <th>6767</th>\n",
       "      <td>3/19/20</td>\n",
       "      <td>37.0 °F</td>\n",
       "      <td>39.9 °F</td>\n",
       "      <td>44.6 °F</td>\n",
       "    </tr>\n",
       "    <tr>\n",
       "      <th>6768</th>\n",
       "      <td>3/20/20</td>\n",
       "      <td>33.3 °F</td>\n",
       "      <td>46.6 °F</td>\n",
       "      <td>63.0 °F</td>\n",
       "    </tr>\n",
       "  </tbody>\n",
       "</table>\n",
       "<p>6763 rows × 4 columns</p>\n",
       "</div>"
      ],
      "text/plain": [
       "          date      min      avg      max\n",
       "0     12/21/45  -0.9 °F   6.0 °F  12.0 °F\n",
       "1     12/22/45   1.0 °F   7.4 °F  12.9 °F\n",
       "2     12/23/45   9.0 °F  19.2 °F  23.0 °F\n",
       "3     12/24/45  19.9 °F  23.6 °F  30.0 °F\n",
       "4     12/25/45  27.0 °F  31.8 °F  37.0 °F\n",
       "...        ...      ...      ...      ...\n",
       "6764   3/16/20  33.1 °F  35.6 °F  39.9 °F\n",
       "6765   3/17/20  34.0 °F  38.9 °F  41.4 °F\n",
       "6766   3/18/20  35.1 °F  37.9 °F  42.1 °F\n",
       "6767   3/19/20  37.0 °F  39.9 °F  44.6 °F\n",
       "6768   3/20/20  33.3 °F  46.6 °F  63.0 °F\n",
       "\n",
       "[6763 rows x 4 columns]"
      ]
     },
     "execution_count": 72,
     "metadata": {},
     "output_type": "execute_result"
    }
   ],
   "source": [
    "# test_wdf = pd.read_csv('2_winter_data.csv')\n",
    "# print(len(test_wdf.index))\n",
    "# # cleaned_wdf = test_wdf[test_wdf['min'].str.contains('No')==False ]\n",
    "# cleaned_wdf = winter_df[winter_df['max'].str.contains('No')==False]\n",
    "# # cleaned_wdf = winter_df[winter_df['avg'].str.contains('No')==False ]\n",
    "\n",
    "# print(len(cleaned_wdf))"
   ]
  },
  {
   "cell_type": "code",
   "execution_count": null,
   "metadata": {},
   "outputs": [],
   "source": [
    "batch = range(0, len(summer_dates), 500)\n",
    "\n",
    "for dates in [summer_dates[i : i + 500] for i in batch]:\n",
    "    for date in dates:\n",
    "        getData(summer_df, date)       \n",
    "summer_df.to_csv(\"summer_data.csv\")"
   ]
  },
  {
   "cell_type": "code",
   "execution_count": 34,
   "metadata": {},
   "outputs": [
    {
     "data": {
      "text/html": [
       "<div>\n",
       "<style scoped>\n",
       "    .dataframe tbody tr th:only-of-type {\n",
       "        vertical-align: middle;\n",
       "    }\n",
       "\n",
       "    .dataframe tbody tr th {\n",
       "        vertical-align: top;\n",
       "    }\n",
       "\n",
       "    .dataframe thead th {\n",
       "        text-align: right;\n",
       "    }\n",
       "</style>\n",
       "<table border=\"1\" class=\"dataframe\">\n",
       "  <thead>\n",
       "    <tr style=\"text-align: right;\">\n",
       "      <th></th>\n",
       "      <th>date</th>\n",
       "      <th>min</th>\n",
       "      <th>avg</th>\n",
       "      <th>max</th>\n",
       "    </tr>\n",
       "  </thead>\n",
       "  <tbody>\n",
       "    <tr>\n",
       "      <th>0</th>\n",
       "      <td>1945-12-21</td>\n",
       "      <td>-0.9 °F</td>\n",
       "      <td>6.0 °F</td>\n",
       "      <td>12.0 °F</td>\n",
       "    </tr>\n",
       "    <tr>\n",
       "      <th>1</th>\n",
       "      <td>1945-12-22</td>\n",
       "      <td>1.0 °F</td>\n",
       "      <td>7.4 °F</td>\n",
       "      <td>12.9 °F</td>\n",
       "    </tr>\n",
       "    <tr>\n",
       "      <th>2</th>\n",
       "      <td>1945-12-23</td>\n",
       "      <td>9.0 °F</td>\n",
       "      <td>19.2 °F</td>\n",
       "      <td>23.0 °F</td>\n",
       "    </tr>\n",
       "    <tr>\n",
       "      <th>3</th>\n",
       "      <td>1945-12-24</td>\n",
       "      <td>19.9 °F</td>\n",
       "      <td>23.6 °F</td>\n",
       "      <td>30.0 °F</td>\n",
       "    </tr>\n",
       "    <tr>\n",
       "      <th>4</th>\n",
       "      <td>1945-12-25</td>\n",
       "      <td>27.0 °F</td>\n",
       "      <td>31.8 °F</td>\n",
       "      <td>37.0 °F</td>\n",
       "    </tr>\n",
       "    <tr>\n",
       "      <th>...</th>\n",
       "      <td>...</td>\n",
       "      <td>...</td>\n",
       "      <td>...</td>\n",
       "      <td>...</td>\n",
       "    </tr>\n",
       "    <tr>\n",
       "      <th>6764</th>\n",
       "      <td>2020-03-16</td>\n",
       "      <td>33.1 °F</td>\n",
       "      <td>35.6 °F</td>\n",
       "      <td>39.9 °F</td>\n",
       "    </tr>\n",
       "    <tr>\n",
       "      <th>6765</th>\n",
       "      <td>2020-03-17</td>\n",
       "      <td>34.0 °F</td>\n",
       "      <td>38.9 °F</td>\n",
       "      <td>41.4 °F</td>\n",
       "    </tr>\n",
       "    <tr>\n",
       "      <th>6766</th>\n",
       "      <td>2020-03-18</td>\n",
       "      <td>35.1 °F</td>\n",
       "      <td>37.9 °F</td>\n",
       "      <td>42.1 °F</td>\n",
       "    </tr>\n",
       "    <tr>\n",
       "      <th>6767</th>\n",
       "      <td>2020-03-19</td>\n",
       "      <td>37.0 °F</td>\n",
       "      <td>39.9 °F</td>\n",
       "      <td>44.6 °F</td>\n",
       "    </tr>\n",
       "    <tr>\n",
       "      <th>6768</th>\n",
       "      <td>2020-03-20</td>\n",
       "      <td>33.3 °F</td>\n",
       "      <td>46.6 °F</td>\n",
       "      <td>63.0 °F</td>\n",
       "    </tr>\n",
       "  </tbody>\n",
       "</table>\n",
       "<p>6763 rows × 4 columns</p>\n",
       "</div>"
      ],
      "text/plain": [
       "            date      min      avg      max\n",
       "0     1945-12-21  -0.9 °F   6.0 °F  12.0 °F\n",
       "1     1945-12-22   1.0 °F   7.4 °F  12.9 °F\n",
       "2     1945-12-23   9.0 °F  19.2 °F  23.0 °F\n",
       "3     1945-12-24  19.9 °F  23.6 °F  30.0 °F\n",
       "4     1945-12-25  27.0 °F  31.8 °F  37.0 °F\n",
       "...          ...      ...      ...      ...\n",
       "6764  2020-03-16  33.1 °F  35.6 °F  39.9 °F\n",
       "6765  2020-03-17  34.0 °F  38.9 °F  41.4 °F\n",
       "6766  2020-03-18  35.1 °F  37.9 °F  42.1 °F\n",
       "6767  2020-03-19  37.0 °F  39.9 °F  44.6 °F\n",
       "6768  2020-03-20  33.3 °F  46.6 °F  63.0 °F\n",
       "\n",
       "[6763 rows x 4 columns]"
      ]
     },
     "execution_count": 34,
     "metadata": {},
     "output_type": "execute_result"
    }
   ],
   "source": [
    "winter_df = pd.read_csv('winter_data.csv', index_col=0)\n",
    "summer_df = pd.read_csv('summer_data.csv', index_col=0)\n",
    "winter_df"
   ]
  },
  {
   "cell_type": "code",
   "execution_count": 35,
   "metadata": {},
   "outputs": [],
   "source": [
    "# Remove ºF from temperature data\n",
    "def removeUnit(val):\n",
    "    ''' Removes the unit from the value. Returns value.'''\n",
    "    new = str(val)\n",
    "    new = new[ : new.find(' ')]\n",
    "    return new\n",
    "\n",
    "winter_df['min'] = winter_df['min'].apply(removeUnit)\n",
    "winter_df['avg'] = winter_df['avg'].apply(removeUnit)\n",
    "winter_df['max'] = winter_df['max'].apply(removeUnit)\n",
    "summer_df['min'] = summer_df['min'].apply(removeUnit)\n",
    "summer_df['avg'] = summer_df['avg'].apply(removeUnit)\n",
    "summer_df['max'] = summer_df['max'].apply(removeUnit)"
   ]
  },
  {
   "cell_type": "code",
   "execution_count": 36,
   "metadata": {},
   "outputs": [],
   "source": [
    "# Create year column by extracting year from date column\n",
    "winter_df['date'] = pd.to_datetime(winter_df['date'])\n",
    "summer_df['date'] = pd.to_datetime(summer_df['date'])\n",
    "winter_df['year'] = pd.DatetimeIndex(winter_df['date']).year\n",
    "summer_df['year'] = pd.DatetimeIndex(summer_df['date']).year"
   ]
  },
  {
   "cell_type": "code",
   "execution_count": null,
   "metadata": {},
   "outputs": [],
   "source": []
  },
  {
   "cell_type": "code",
   "execution_count": 37,
   "metadata": {},
   "outputs": [],
   "source": [
    "winter_df['min'] = pd.to_numeric(winter_df['min'])\n",
    "winter_df['avg'] = pd.to_numeric(winter_df['avg'])\n",
    "winter_df['max'] = pd.to_numeric(winter_df['max'])\n",
    "summer_df['min'] = pd.to_numeric(summer_df['min'])\n",
    "summer_df['avg'] = pd.to_numeric(summer_df['avg'])\n",
    "summer_df['max'] = pd.to_numeric(summer_df['max'])"
   ]
  },
  {
   "cell_type": "code",
   "execution_count": 94,
   "metadata": {},
   "outputs": [
    {
     "data": {
      "text/html": [
       "<div>\n",
       "<style scoped>\n",
       "    .dataframe tbody tr th:only-of-type {\n",
       "        vertical-align: middle;\n",
       "    }\n",
       "\n",
       "    .dataframe tbody tr th {\n",
       "        vertical-align: top;\n",
       "    }\n",
       "\n",
       "    .dataframe thead th {\n",
       "        text-align: right;\n",
       "    }\n",
       "</style>\n",
       "<table border=\"1\" class=\"dataframe\">\n",
       "  <thead>\n",
       "    <tr style=\"text-align: right;\">\n",
       "      <th></th>\n",
       "      <th>date</th>\n",
       "      <th>min</th>\n",
       "      <th>avg</th>\n",
       "      <th>max</th>\n",
       "      <th>year</th>\n",
       "    </tr>\n",
       "  </thead>\n",
       "  <tbody>\n",
       "    <tr>\n",
       "      <th>0</th>\n",
       "      <td>1945-12-21</td>\n",
       "      <td>-0.9</td>\n",
       "      <td>6.0</td>\n",
       "      <td>12.0</td>\n",
       "      <td>1945</td>\n",
       "    </tr>\n",
       "    <tr>\n",
       "      <th>1</th>\n",
       "      <td>1945-12-22</td>\n",
       "      <td>1.0</td>\n",
       "      <td>7.4</td>\n",
       "      <td>12.9</td>\n",
       "      <td>1945</td>\n",
       "    </tr>\n",
       "    <tr>\n",
       "      <th>2</th>\n",
       "      <td>1945-12-23</td>\n",
       "      <td>9.0</td>\n",
       "      <td>19.2</td>\n",
       "      <td>23.0</td>\n",
       "      <td>1945</td>\n",
       "    </tr>\n",
       "    <tr>\n",
       "      <th>3</th>\n",
       "      <td>1945-12-24</td>\n",
       "      <td>19.9</td>\n",
       "      <td>23.6</td>\n",
       "      <td>30.0</td>\n",
       "      <td>1945</td>\n",
       "    </tr>\n",
       "    <tr>\n",
       "      <th>4</th>\n",
       "      <td>1945-12-25</td>\n",
       "      <td>27.0</td>\n",
       "      <td>31.8</td>\n",
       "      <td>37.0</td>\n",
       "      <td>1945</td>\n",
       "    </tr>\n",
       "  </tbody>\n",
       "</table>\n",
       "</div>"
      ],
      "text/plain": [
       "        date   min   avg   max  year\n",
       "0 1945-12-21  -0.9   6.0  12.0  1945\n",
       "1 1945-12-22   1.0   7.4  12.9  1945\n",
       "2 1945-12-23   9.0  19.2  23.0  1945\n",
       "3 1945-12-24  19.9  23.6  30.0  1945\n",
       "4 1945-12-25  27.0  31.8  37.0  1945"
      ]
     },
     "execution_count": 94,
     "metadata": {},
     "output_type": "execute_result"
    }
   ],
   "source": [
    "winter_df.head()"
   ]
  },
  {
   "cell_type": "code",
   "execution_count": 95,
   "metadata": {},
   "outputs": [
    {
     "data": {
      "text/html": [
       "<div>\n",
       "<style scoped>\n",
       "    .dataframe tbody tr th:only-of-type {\n",
       "        vertical-align: middle;\n",
       "    }\n",
       "\n",
       "    .dataframe tbody tr th {\n",
       "        vertical-align: top;\n",
       "    }\n",
       "\n",
       "    .dataframe thead th {\n",
       "        text-align: right;\n",
       "    }\n",
       "</style>\n",
       "<table border=\"1\" class=\"dataframe\">\n",
       "  <thead>\n",
       "    <tr style=\"text-align: right;\">\n",
       "      <th></th>\n",
       "      <th>date</th>\n",
       "      <th>min</th>\n",
       "      <th>avg</th>\n",
       "      <th>max</th>\n",
       "      <th>year</th>\n",
       "    </tr>\n",
       "  </thead>\n",
       "  <tbody>\n",
       "    <tr>\n",
       "      <th>0</th>\n",
       "      <td>1946-06-21</td>\n",
       "      <td>50.0</td>\n",
       "      <td>58.6</td>\n",
       "      <td>66.9</td>\n",
       "      <td>1946</td>\n",
       "    </tr>\n",
       "    <tr>\n",
       "      <th>1</th>\n",
       "      <td>1946-06-22</td>\n",
       "      <td>54.0</td>\n",
       "      <td>67.5</td>\n",
       "      <td>84.0</td>\n",
       "      <td>1946</td>\n",
       "    </tr>\n",
       "    <tr>\n",
       "      <th>2</th>\n",
       "      <td>1946-06-23</td>\n",
       "      <td>64.9</td>\n",
       "      <td>76.9</td>\n",
       "      <td>89.1</td>\n",
       "      <td>1946</td>\n",
       "    </tr>\n",
       "    <tr>\n",
       "      <th>3</th>\n",
       "      <td>1946-06-24</td>\n",
       "      <td>66.0</td>\n",
       "      <td>77.9</td>\n",
       "      <td>89.1</td>\n",
       "      <td>1946</td>\n",
       "    </tr>\n",
       "    <tr>\n",
       "      <th>4</th>\n",
       "      <td>1946-06-25</td>\n",
       "      <td>70.0</td>\n",
       "      <td>76.8</td>\n",
       "      <td>86.0</td>\n",
       "      <td>1946</td>\n",
       "    </tr>\n",
       "  </tbody>\n",
       "</table>\n",
       "</div>"
      ],
      "text/plain": [
       "        date   min   avg   max  year\n",
       "0 1946-06-21  50.0  58.6  66.9  1946\n",
       "1 1946-06-22  54.0  67.5  84.0  1946\n",
       "2 1946-06-23  64.9  76.9  89.1  1946\n",
       "3 1946-06-24  66.0  77.9  89.1  1946\n",
       "4 1946-06-25  70.0  76.8  86.0  1946"
      ]
     },
     "execution_count": 95,
     "metadata": {},
     "output_type": "execute_result"
    }
   ],
   "source": [
    "summer_df.head()"
   ]
  },
  {
   "cell_type": "code",
   "execution_count": 118,
   "metadata": {},
   "outputs": [],
   "source": [
    "winter_min_summary_df = winter_df.groupby(['year'])['min'].describe()\n",
    "winter_min_summary_df.to_csv('winter_min_summary')"
   ]
  },
  {
   "cell_type": "code",
   "execution_count": 119,
   "metadata": {},
   "outputs": [],
   "source": [
    "winter_avg_summary_df = winter_df.groupby(['year'])['avg'].describe()\n",
    "winter_avg_summary_df.to_csv('winter_avg_summary')"
   ]
  },
  {
   "cell_type": "code",
   "execution_count": 120,
   "metadata": {},
   "outputs": [],
   "source": [
    "winter_max_summary_df = winter_df.groupby(['year'])['max'].describe()\n",
    "winter_max_summary_df.to_csv('winter_max_summary')"
   ]
  },
  {
   "cell_type": "code",
   "execution_count": 122,
   "metadata": {},
   "outputs": [],
   "source": [
    "summer_min_summary_df = summer_df.groupby(['year'])['min'].describe()\n",
    "summer_min_summary_df.to_csv('summer_min_summary')"
   ]
  },
  {
   "cell_type": "code",
   "execution_count": 123,
   "metadata": {},
   "outputs": [],
   "source": [
    "summer_avg_summary_df = summer_df.groupby(['year'])['avg'].describe()\n",
    "summer_avg_summary_df.to_csv('summer_avg_summary')"
   ]
  },
  {
   "cell_type": "code",
   "execution_count": 124,
   "metadata": {},
   "outputs": [],
   "source": [
    "summer_max_summary_df = summer_df.groupby(['year'])['max'].describe()\n",
    "summer_max_summary_df.to_csv('summer_max_summary')"
   ]
  },
  {
   "cell_type": "code",
   "execution_count": 112,
   "metadata": {},
   "outputs": [
    {
     "data": {
      "text/plain": [
       "<AxesSubplot:title={'center':'Average Winter Min Temperature'}, xlabel='year'>"
      ]
     },
     "execution_count": 112,
     "metadata": {},
     "output_type": "execute_result"
    },
    {
     "data": {
      "image/png": "[encoded data removed]",
      "text/plain": [
       "<Figure size 432x288 with 1 Axes>"
      ]
     },
     "metadata": {
      "needs_background": "light"
     },
     "output_type": "display_data"
    }
   ],
   "source": [
    "winter_df.groupby(['year'])['min'].mean().plot(title = 'Average Winter Min Temperature')"
   ]
  },
  {
   "cell_type": "code",
   "execution_count": 113,
   "metadata": {},
   "outputs": [
    {
     "data": {
      "text/plain": [
       "<AxesSubplot:title={'center':'Average Winter Mean Temperature'}, xlabel='year'>"
      ]
     },
     "execution_count": 113,
     "metadata": {},
     "output_type": "execute_result"
    },
    {
     "data": {
      "image/png": "[encoded data removed]",
      "text/plain": [
       "<Figure size 432x288 with 1 Axes>"
      ]
     },
     "metadata": {
      "needs_background": "light"
     },
     "output_type": "display_data"
    }
   ],
   "source": [
    "winter_df.groupby(['year'])['avg'].mean().plot(title = 'Average Winter Mean Temperature')"
   ]
  },
  {
   "cell_type": "code",
   "execution_count": 114,
   "metadata": {},
   "outputs": [
    {
     "data": {
      "text/plain": [
       "<AxesSubplot:title={'center':'Average Winter Max Temperature'}, xlabel='year'>"
      ]
     },
     "execution_count": 114,
     "metadata": {},
     "output_type": "execute_result"
    },
    {
     "data": {
      "image/png": "[encoded data removed]",
      "text/plain": [
       "<Figure size 432x288 with 1 Axes>"
      ]
     },
     "metadata": {
      "needs_background": "light"
     },
     "output_type": "display_data"
    }
   ],
   "source": [
    "winter_df.groupby(['year'])['max'].mean().plot(title = 'Average Winter Max Temperature')"
   ]
  },
  {
   "cell_type": "code",
   "execution_count": 115,
   "metadata": {},
   "outputs": [
    {
     "data": {
      "text/plain": [
       "<AxesSubplot:title={'center':'Average Summer Min Temperature'}, xlabel='year'>"
      ]
     },
     "execution_count": 115,
     "metadata": {},
     "output_type": "execute_result"
    },
    {
     "data": {
      "image/png": "[encoded data removed]",
      "text/plain": [
       "<Figure size 432x288 with 1 Axes>"
      ]
     },
     "metadata": {
      "needs_background": "light"
     },
     "output_type": "display_data"
    }
   ],
   "source": [
    "summer_df.groupby(['year'])['min'].mean().plot(title = 'Average Summer Min Temperature')"
   ]
  },
  {
   "cell_type": "code",
   "execution_count": 116,
   "metadata": {},
   "outputs": [
    {
     "data": {
      "text/plain": [
       "<AxesSubplot:title={'center':'Average Summer Mean Temperature'}, xlabel='year'>"
      ]
     },
     "execution_count": 116,
     "metadata": {},
     "output_type": "execute_result"
    },
    {
     "data": {
      "image/png": "[encoded data removed]",
      "text/plain": [
       "<Figure size 432x288 with 1 Axes>"
      ]
     },
     "metadata": {
      "needs_background": "light"
     },
     "output_type": "display_data"
    }
   ],
   "source": [
    "summer_df.groupby(['year'])['avg'].mean().plot(title = 'Average Summer Mean Temperature')"
   ]
  },
  {
   "cell_type": "code",
   "execution_count": 117,
   "metadata": {},
   "outputs": [
    {
     "data": {
      "text/plain": [
       "<AxesSubplot:title={'center':'Average Summer Max Temperature'}, xlabel='year'>"
      ]
     },
     "execution_count": 117,
     "metadata": {},
     "output_type": "execute_result"
    },
    {
     "data": {
      "image/png": "[encoded data removed]",
      "text/plain": [
       "<Figure size 432x288 with 1 Axes>"
      ]
     },
     "metadata": {
      "needs_background": "light"
     },
     "output_type": "display_data"
    }
   ],
   "source": [
    "summer_df.groupby(['year'])['max'].mean().plot(title = 'Average Summer Max Temperature')"
   ]
  },
  {
   "cell_type": "markdown",
   "metadata": {},
   "source": [
    "## Univariate Time Series Modeling ##"
   ]
  },
  {
   "cell_type": "code",
   "execution_count": 62,
   "metadata": {},
   "outputs": [],
   "source": [
    "from statsmodels.tsa.statespace.sarimax import SARIMAX\n",
    "from statsmodels.tsa.arima_model import ARIMA\n",
    "from statsmodels.tsa.stattools import adfuller\n",
    "from statsmodels.stats.diagnostic import acorr_ljungbox\n",
    "from pmdarima import auto_arima"
   ]
  },
  {
   "cell_type": "code",
   "execution_count": 13,
   "metadata": {},
   "outputs": [],
   "source": [
    "# Taken from https://www.statsmodels.org/dev/generated/statsmodels.tsa.stattools.adfuller.html\n",
    "def ad_test(dataset):\n",
    "     dftest = adfuller(dataset, autolag = 'AIC')\n",
    "     print(\"1. ADF : \",dftest[0])\n",
    "     print(\"2. P-Value : \", dftest[1])\n",
    "     print(\"3. Num Of Lags : \", dftest[2])\n",
    "     print(\"4. Num Of Observations Used For ADF Regression:\",      dftest[3])\n",
    "     print(\"5. Critical Values :\")\n",
    "     for key, val in dftest[4].items():\n",
    "         print(\"\\t\",key, \": \", val)\n",
    "\n"
   ]
  },
  {
   "cell_type": "code",
   "execution_count": 45,
   "metadata": {},
   "outputs": [
    {
     "data": {
      "text/html": [
       "<div>\n",
       "<style scoped>\n",
       "    .dataframe tbody tr th:only-of-type {\n",
       "        vertical-align: middle;\n",
       "    }\n",
       "\n",
       "    .dataframe tbody tr th {\n",
       "        vertical-align: top;\n",
       "    }\n",
       "\n",
       "    .dataframe thead th {\n",
       "        text-align: right;\n",
       "    }\n",
       "</style>\n",
       "<table border=\"1\" class=\"dataframe\">\n",
       "  <thead>\n",
       "    <tr style=\"text-align: right;\">\n",
       "      <th></th>\n",
       "      <th>avg</th>\n",
       "    </tr>\n",
       "    <tr>\n",
       "      <th>date</th>\n",
       "      <th></th>\n",
       "    </tr>\n",
       "  </thead>\n",
       "  <tbody>\n",
       "    <tr>\n",
       "      <th>1946-06-21</th>\n",
       "      <td>58.6</td>\n",
       "    </tr>\n",
       "    <tr>\n",
       "      <th>1946-06-22</th>\n",
       "      <td>67.5</td>\n",
       "    </tr>\n",
       "    <tr>\n",
       "      <th>1946-06-23</th>\n",
       "      <td>76.9</td>\n",
       "    </tr>\n",
       "    <tr>\n",
       "      <th>1946-06-24</th>\n",
       "      <td>77.9</td>\n",
       "    </tr>\n",
       "    <tr>\n",
       "      <th>1946-06-25</th>\n",
       "      <td>76.8</td>\n",
       "    </tr>\n",
       "    <tr>\n",
       "      <th>...</th>\n",
       "      <td>...</td>\n",
       "    </tr>\n",
       "    <tr>\n",
       "      <th>2020-09-18</th>\n",
       "      <td>59.4</td>\n",
       "    </tr>\n",
       "    <tr>\n",
       "      <th>2020-09-19</th>\n",
       "      <td>56.1</td>\n",
       "    </tr>\n",
       "    <tr>\n",
       "      <th>2020-09-20</th>\n",
       "      <td>61.3</td>\n",
       "    </tr>\n",
       "    <tr>\n",
       "      <th>2020-09-21</th>\n",
       "      <td>63.0</td>\n",
       "    </tr>\n",
       "    <tr>\n",
       "      <th>2020-09-22</th>\n",
       "      <td>66.0</td>\n",
       "    </tr>\n",
       "  </tbody>\n",
       "</table>\n",
       "<p>7048 rows × 1 columns</p>\n",
       "</div>"
      ],
      "text/plain": [
       "             avg\n",
       "date            \n",
       "1946-06-21  58.6\n",
       "1946-06-22  67.5\n",
       "1946-06-23  76.9\n",
       "1946-06-24  77.9\n",
       "1946-06-25  76.8\n",
       "...          ...\n",
       "2020-09-18  59.4\n",
       "2020-09-19  56.1\n",
       "2020-09-20  61.3\n",
       "2020-09-21  63.0\n",
       "2020-09-22  66.0\n",
       "\n",
       "[7048 rows x 1 columns]"
      ]
     },
     "execution_count": 45,
     "metadata": {},
     "output_type": "execute_result"
    }
   ],
   "source": [
    "summer_avg_df = summer_df[['date', 'avg']]\n",
    "summer_avg_df.set_index('date', inplace = True)\n",
    "summer_avg_df"
   ]
  },
  {
   "cell_type": "code",
   "execution_count": 46,
   "metadata": {
    "scrolled": true
   },
   "outputs": [
    {
     "name": "stdout",
     "output_type": "stream",
     "text": [
      "1. ADF :  -15.837942590135277\n",
      "2. P-Value :  9.768800898721186e-29\n",
      "3. Num Of Lags :  13\n",
      "4. Num Of Observations Used For ADF Regression: 7034\n",
      "5. Critical Values :\n",
      "\t 1% :  -3.4312800096693654\n",
      "\t 5% :  -2.861950989869595\n",
      "\t 10% :  -2.5669887659007724\n"
     ]
    }
   ],
   "source": [
    "ad_test(summer_avg_df)"
   ]
  },
  {
   "cell_type": "markdown",
   "metadata": {},
   "source": [
    "p-value < 0.05 ==> data is stationary. Will use ARIMA"
   ]
  },
  {
   "cell_type": "code",
   "execution_count": null,
   "metadata": {},
   "outputs": [],
   "source": []
  },
  {
   "cell_type": "code",
   "execution_count": 58,
   "metadata": {
    "scrolled": true
   },
   "outputs": [],
   "source": [
    "import warnings\n",
    "warnings.filterwarnings('ignore', 'statsmodels.tsa.arima_model.ARMA',\n",
    "                        FutureWarning)\n",
    "warnings.filterwarnings('ignore', 'statsmodels.tsa.arima_model.ARIMA',\n",
    "                        FutureWarning)"
   ]
  },
  {
   "cell_type": "code",
   "execution_count": 59,
   "metadata": {
    "scrolled": false
   },
   "outputs": [
    {
     "name": "stderr",
     "output_type": "stream",
     "text": [
      "/Users/headless/opt/anaconda3/lib/python3.9/site-packages/statsmodels/tsa/arima_model.py:472: FutureWarning: \n",
      "statsmodels.tsa.arima_model.ARMA and statsmodels.tsa.arima_model.ARIMA have\n",
      "been deprecated in favor of statsmodels.tsa.arima.model.ARIMA (note the .\n",
      "between arima and model) and\n",
      "statsmodels.tsa.SARIMAX. These will be removed after the 0.12 release.\n",
      "\n",
      "statsmodels.tsa.arima.model.ARIMA makes use of the statespace framework and\n",
      "is both well tested and maintained.\n",
      "\n",
      "To silence this warning and continue using ARMA and ARIMA until they are\n",
      "removed, use:\n",
      "\n",
      "import warnings\n",
      "warnings.filterwarnings('ignore', 'statsmodels.tsa.arima_model.ARMA',\n",
      "                        FutureWarning)\n",
      "warnings.filterwarnings('ignore', 'statsmodels.tsa.arima_model.ARIMA',\n",
      "                        FutureWarning)\n",
      "\n",
      "  warnings.warn(ARIMA_DEPRECATION_WARN, FutureWarning)\n",
      "/Users/headless/opt/anaconda3/lib/python3.9/site-packages/statsmodels/tsa/base/tsa_model.py:578: ValueWarning: An unsupported index was provided and will be ignored when e.g. forecasting.\n",
      "  warnings.warn('An unsupported index was provided and will be'\n",
      " This problem is unconstrained.\n"
     ]
    },
    {
     "name": "stdout",
     "output_type": "stream",
     "text": [
      "RUNNING THE L-BFGS-B CODE\n",
      "\n",
      "           * * *\n",
      "\n",
      "Machine precision = 2.220D-16\n",
      " N =            9     M =           12\n",
      "\n",
      "At X0         0 variables are exactly at the bounds\n",
      "\n",
      "At iterate    0    f=  2.84551D+00    |proj g|=  3.09147D+00\n"
     ]
    },
    {
     "name": "stderr",
     "output_type": "stream",
     "text": [
      "\n",
      " Bad direction in the line search;\n",
      "   refresh the lbfgs memory and restart the iteration.\n",
      "/Users/headless/opt/anaconda3/lib/python3.9/site-packages/statsmodels/tsa/tsatools.py:701: RuntimeWarning: overflow encountered in exp\n",
      "  newparams = ((1-np.exp(-params))/(1+np.exp(-params))).copy()\n",
      "/Users/headless/opt/anaconda3/lib/python3.9/site-packages/statsmodels/tsa/tsatools.py:701: RuntimeWarning: invalid value encountered in true_divide\n",
      "  newparams = ((1-np.exp(-params))/(1+np.exp(-params))).copy()\n",
      "/Users/headless/opt/anaconda3/lib/python3.9/site-packages/statsmodels/tsa/tsatools.py:702: RuntimeWarning: overflow encountered in exp\n",
      "  tmp = ((1-np.exp(-params))/(1+np.exp(-params))).copy()\n",
      "/Users/headless/opt/anaconda3/lib/python3.9/site-packages/statsmodels/tsa/tsatools.py:702: RuntimeWarning: invalid value encountered in true_divide\n",
      "  tmp = ((1-np.exp(-params))/(1+np.exp(-params))).copy()\n",
      "\n",
      " Line search cannot locate an adequate point after MAXLS\n",
      "  function and gradient evaluations.\n",
      "  Previous x, f and g restored.\n",
      " Possible causes: 1 error in function or gradient evaluation;\n",
      "                  2 rounding error dominate computation.\n"
     ]
    },
    {
     "name": "stdout",
     "output_type": "stream",
     "text": [
      "\n",
      "           * * *\n",
      "\n",
      "Tit   = total number of iterations\n",
      "Tnf   = total number of function evaluations\n",
      "Tnint = total number of segments explored during Cauchy searches\n",
      "Skip  = number of BFGS updates skipped\n",
      "Nact  = number of active bounds at final generalized Cauchy point\n",
      "Projg = norm of the final projected gradient\n",
      "F     = final function value\n",
      "\n",
      "           * * *\n",
      "\n",
      "   N    Tit     Tnf  Tnint  Skip  Nact     Projg        F\n",
      "    9      3     62      2     0     0   8.141D+00   2.846D+00\n",
      "  F =   2.8455109355800907     \n",
      "\n",
      "ABNORMAL_TERMINATION_IN_LNSRCH                              \n"
     ]
    },
    {
     "name": "stderr",
     "output_type": "stream",
     "text": [
      "/Users/headless/opt/anaconda3/lib/python3.9/site-packages/statsmodels/base/model.py:547: HessianInversionWarning: Inverting hessian failed, no bse or cov_params available\n",
      "  warnings.warn('Inverting hessian failed, no bse or cov_params '\n",
      "/Users/headless/opt/anaconda3/lib/python3.9/site-packages/statsmodels/base/model.py:566: ConvergenceWarning: Maximum Likelihood optimization failed to converge. Check mle_retvals\n",
      "  warnings.warn(\"Maximum Likelihood optimization failed to \"\n"
     ]
    },
    {
     "name": "stdout",
     "output_type": "stream",
     "text": [
      "                              ARMA Model Results                              \n",
      "==============================================================================\n",
      "Dep. Variable:                    avg   No. Observations:                 7048\n",
      "Model:                     ARMA(5, 3)   Log Likelihood              -20055.161\n",
      "Method:                       css-mle   S.D. of innovations                nan\n",
      "Date:                Sun, 24 Apr 2022   AIC                          40130.322\n",
      "Time:                        18:17:09   BIC                          40198.927\n",
      "Sample:                             0   HQIC                         40153.954\n",
      "                                                                              \n",
      "==============================================================================\n",
      "                 coef    std err          z      P>|z|      [0.025      0.975]\n",
      "------------------------------------------------------------------------------\n",
      "const         73.4166      0.000    2.1e+05      0.000      73.416      73.417\n",
      "ar.L1.avg      2.9044   3.84e-05   7.57e+04      0.000       2.904       2.904\n",
      "ar.L2.avg     -3.1297        nan        nan        nan         nan         nan\n",
      "ar.L3.avg      1.6411   3.59e-05   4.57e+04      0.000       1.641       1.641\n",
      "ar.L4.avg     -0.5186   3.64e-05  -1.43e+04      0.000      -0.519      -0.519\n",
      "ar.L5.avg      0.1015   2.84e-05   3572.769      0.000       0.101       0.102\n",
      "ma.L1.avg     -2.0291      0.003   -753.882      0.000      -2.034      -2.024\n",
      "ma.L2.avg      1.0712      0.002    445.202      0.000       1.066       1.076\n",
      "ma.L3.avg     -0.0377        nan        nan        nan         nan         nan\n",
      "                                    Roots                                    \n",
      "=============================================================================\n",
      "                  Real          Imaginary           Modulus         Frequency\n",
      "-----------------------------------------------------------------------------\n",
      "AR.1            0.9979           -0.0667j            1.0001           -0.0106\n",
      "AR.2            0.9979           +0.0667j            1.0001            0.0106\n",
      "AR.3            1.5076           -0.0000j            1.5076           -0.0000\n",
      "AR.4            0.8026           -2.4266j            2.5559           -0.1992\n",
      "AR.5            0.8026           +2.4266j            2.5559            0.1992\n",
      "MA.1            0.9998           -0.0678j            1.0021           -0.0108\n",
      "MA.2            0.9998           +0.0678j            1.0021            0.0108\n",
      "MA.3           26.4470           -0.0000j           26.4470           -0.0000\n",
      "-----------------------------------------------------------------------------\n"
     ]
    },
    {
     "name": "stderr",
     "output_type": "stream",
     "text": [
      "/Users/headless/opt/anaconda3/lib/python3.9/site-packages/statsmodels/tsa/arima_model.py:1521: RuntimeWarning: invalid value encountered in sqrt\n",
      "  return np.sqrt(np.diag(-inv(hess)))\n"
     ]
    }
   ],
   "source": [
    "best_model = ARIMA(summer_df['avg'], order=(5,0,3)).fit()\n",
    "print(best_model.summary())"
   ]
  },
  {
   "cell_type": "code",
   "execution_count": 63,
   "metadata": {
    "scrolled": false
   },
   "outputs": [
    {
     "name": "stdout",
     "output_type": "stream",
     "text": [
      "Ljung-Box test: [ 0.02378505  0.64572513  1.74977756  1.76440504  2.25230139  4.13216756\n",
      "  6.78590311  7.44051895 10.37849077 10.93788169]\n",
      "p-value: [0.87743311 0.72407336 0.62592439 0.77898781 0.81324639 0.65879588\n",
      " 0.45150695 0.48993284 0.3207218  0.36237805]\n"
     ]
    },
    {
     "name": "stderr",
     "output_type": "stream",
     "text": [
      "/Users/headless/opt/anaconda3/lib/python3.9/site-packages/statsmodels/stats/diagnostic.py:531: FutureWarning: The default value of lags is changing.  After 0.12, this value will become min(10, nobs//5). Directly setlags to silence this warning.\n",
      "  warnings.warn(\"The default value of lags is changing.  After 0.12, \"\n",
      "/Users/headless/opt/anaconda3/lib/python3.9/site-packages/statsmodels/stats/diagnostic.py:559: FutureWarning: The value returned will change to a single DataFrame after 0.12 is released.  Set return_df to True to use to return a DataFrame now.  Set return_df to False to silence this warning.\n",
      "  warnings.warn(msg, FutureWarning)\n"
     ]
    }
   ],
   "source": [
    "# Ljung-Box test\n",
    "ljung_box, p_value = acorr_ljungbox(best_model.resid)\n",
    "print(f'Ljung-Box test: {ljung_box[:10]}')\n",
    "print(f'p-value: {p_value[:10]}')"
   ]
  },
  {
   "cell_type": "code",
   "execution_count": 64,
   "metadata": {},
   "outputs": [
    {
     "data": {
      "image/png": "[encoded data removed]",
      "text/plain": [
       "<Figure size 432x288 with 1 Axes>"
      ]
     },
     "metadata": {
      "needs_background": "light"
     },
     "output_type": "display_data"
    },
    {
     "data": {
      "image/png": "[encoded data removed]",
      "text/plain": [
       "<Figure size 432x288 with 1 Axes>"
      ]
     },
     "metadata": {
      "needs_background": "light"
     },
     "output_type": "display_data"
    }
   ],
   "source": [
    "plot_pacf(best_model.resid);\n",
    "plot_acf(best_model.resid);"
   ]
  },
  {
   "cell_type": "code",
   "execution_count": 44,
   "metadata": {},
   "outputs": [
    {
     "name": "stdout",
     "output_type": "stream",
     "text": [
      "Performing stepwise search to minimize aic\n",
      " ARIMA(2,0,2)(0,0,0)[0] intercept   : AIC=40275.950, Time=6.42 sec\n",
      " ARIMA(0,0,0)(0,0,0)[0] intercept   : AIC=46308.154, Time=0.10 sec\n",
      " ARIMA(1,0,0)(0,0,0)[0] intercept   : AIC=40638.969, Time=0.32 sec\n",
      " ARIMA(0,0,1)(0,0,0)[0] intercept   : AIC=41922.182, Time=0.78 sec\n",
      " ARIMA(0,0,0)(0,0,0)[0]             : AIC=80602.116, Time=0.06 sec\n",
      " ARIMA(1,0,2)(0,0,0)[0] intercept   : AIC=40318.951, Time=3.91 sec\n",
      " ARIMA(2,0,1)(0,0,0)[0] intercept   : AIC=40328.389, Time=4.72 sec\n",
      " ARIMA(3,0,2)(0,0,0)[0] intercept   : AIC=40262.343, Time=7.20 sec\n",
      " ARIMA(3,0,1)(0,0,0)[0] intercept   : AIC=40283.507, Time=3.20 sec\n",
      " ARIMA(4,0,2)(0,0,0)[0] intercept   : AIC=40248.495, Time=9.48 sec\n",
      " ARIMA(4,0,1)(0,0,0)[0] intercept   : AIC=40270.472, Time=4.13 sec\n",
      " ARIMA(5,0,2)(0,0,0)[0] intercept   : AIC=40250.811, Time=10.04 sec\n",
      " ARIMA(4,0,3)(0,0,0)[0] intercept   : AIC=40250.170, Time=9.74 sec\n",
      " ARIMA(3,0,3)(0,0,0)[0] intercept   : AIC=40263.670, Time=8.69 sec\n",
      " ARIMA(5,0,1)(0,0,0)[0] intercept   : AIC=40259.986, Time=6.24 sec\n",
      " ARIMA(5,0,3)(0,0,0)[0] intercept   : AIC=40235.269, Time=11.52 sec\n",
      " ARIMA(5,0,4)(0,0,0)[0] intercept   : AIC=40239.213, Time=12.72 sec\n",
      " ARIMA(4,0,4)(0,0,0)[0] intercept   : AIC=40241.734, Time=11.36 sec\n",
      " ARIMA(5,0,3)(0,0,0)[0]             : AIC=40428.502, Time=3.80 sec\n",
      "\n",
      "Best model:  ARIMA(5,0,3)(0,0,0)[0] intercept\n",
      "Total fit time: 114.515 seconds\n"
     ]
    }
   ],
   "source": [
    "# Finds the ideal p,d,q parameters\n",
    "# Set d = 0 because data is stationary\n",
    "stepwise_fit = auto_arima(summer_avg_df, trace=True, suppress_warnings=True, d=0)\n"
   ]
  },
  {
   "cell_type": "code",
   "execution_count": 67,
   "metadata": {},
   "outputs": [
    {
     "name": "stderr",
     "output_type": "stream",
     "text": [
      "/Users/headless/opt/anaconda3/lib/python3.9/site-packages/statsmodels/tsa/base/tsa_model.py:578: ValueWarning: An unsupported index was provided and will be ignored when e.g. forecasting.\n",
      "  warnings.warn('An unsupported index was provided and will be'\n",
      "/Users/headless/opt/anaconda3/lib/python3.9/site-packages/statsmodels/tsa/tsatools.py:701: RuntimeWarning: overflow encountered in exp\n",
      "  newparams = ((1-np.exp(-params))/(1+np.exp(-params))).copy()\n",
      "/Users/headless/opt/anaconda3/lib/python3.9/site-packages/statsmodels/tsa/tsatools.py:701: RuntimeWarning: invalid value encountered in true_divide\n",
      "  newparams = ((1-np.exp(-params))/(1+np.exp(-params))).copy()\n",
      "/Users/headless/opt/anaconda3/lib/python3.9/site-packages/statsmodels/tsa/tsatools.py:702: RuntimeWarning: overflow encountered in exp\n",
      "  tmp = ((1-np.exp(-params))/(1+np.exp(-params))).copy()\n",
      "/Users/headless/opt/anaconda3/lib/python3.9/site-packages/statsmodels/tsa/tsatools.py:702: RuntimeWarning: invalid value encountered in true_divide\n",
      "  tmp = ((1-np.exp(-params))/(1+np.exp(-params))).copy()\n",
      "/Users/headless/opt/anaconda3/lib/python3.9/site-packages/statsmodels/base/model.py:547: HessianInversionWarning: Inverting hessian failed, no bse or cov_params available\n",
      "  warnings.warn('Inverting hessian failed, no bse or cov_params '\n",
      "/Users/headless/opt/anaconda3/lib/python3.9/site-packages/statsmodels/base/model.py:566: ConvergenceWarning: Maximum Likelihood optimization failed to converge. Check mle_retvals\n",
      "  warnings.warn(\"Maximum Likelihood optimization failed to \"\n"
     ]
    },
    {
     "data": {
      "text/plain": [
       "[<matplotlib.lines.Line2D at 0x7fe5c35c0b50>]"
      ]
     },
     "execution_count": 67,
     "metadata": {},
     "output_type": "execute_result"
    },
    {
     "data": {
      "image/png": "[encoded data removed]",
      "text/plain": [
       "<Figure size 432x288 with 1 Axes>"
      ]
     },
     "metadata": {
      "needs_background": "light"
     },
     "output_type": "display_data"
    }
   ],
   "source": [
    "model = ARIMA(summer_df['avg'], order=(5,0,3))\n",
    "results_ARIMA = model.fit(disp = -1)\n",
    "plt.plot(summer_df['avg'])\n",
    "plt.plot(results_ARIMA.fittedvalues, color='red')"
   ]
  },
  {
   "cell_type": "code",
   "execution_count": 19,
   "metadata": {},
   "outputs": [
    {
     "data": {
      "text/html": [
       "<div>\n",
       "<style scoped>\n",
       "    .dataframe tbody tr th:only-of-type {\n",
       "        vertical-align: middle;\n",
       "    }\n",
       "\n",
       "    .dataframe tbody tr th {\n",
       "        vertical-align: top;\n",
       "    }\n",
       "\n",
       "    .dataframe thead th {\n",
       "        text-align: right;\n",
       "    }\n",
       "</style>\n",
       "<table border=\"1\" class=\"dataframe\">\n",
       "  <thead>\n",
       "    <tr style=\"text-align: right;\">\n",
       "      <th></th>\n",
       "      <th>avg</th>\n",
       "    </tr>\n",
       "  </thead>\n",
       "  <tbody>\n",
       "    <tr>\n",
       "      <th>0</th>\n",
       "      <td>58.6</td>\n",
       "    </tr>\n",
       "    <tr>\n",
       "      <th>1</th>\n",
       "      <td>67.5</td>\n",
       "    </tr>\n",
       "    <tr>\n",
       "      <th>2</th>\n",
       "      <td>76.9</td>\n",
       "    </tr>\n",
       "    <tr>\n",
       "      <th>3</th>\n",
       "      <td>77.9</td>\n",
       "    </tr>\n",
       "    <tr>\n",
       "      <th>4</th>\n",
       "      <td>76.8</td>\n",
       "    </tr>\n",
       "    <tr>\n",
       "      <th>...</th>\n",
       "      <td>...</td>\n",
       "    </tr>\n",
       "    <tr>\n",
       "      <th>7045</th>\n",
       "      <td>59.4</td>\n",
       "    </tr>\n",
       "    <tr>\n",
       "      <th>7046</th>\n",
       "      <td>56.1</td>\n",
       "    </tr>\n",
       "    <tr>\n",
       "      <th>7047</th>\n",
       "      <td>61.3</td>\n",
       "    </tr>\n",
       "    <tr>\n",
       "      <th>7048</th>\n",
       "      <td>63.0</td>\n",
       "    </tr>\n",
       "    <tr>\n",
       "      <th>7049</th>\n",
       "      <td>66.0</td>\n",
       "    </tr>\n",
       "  </tbody>\n",
       "</table>\n",
       "<p>7048 rows × 1 columns</p>\n",
       "</div>"
      ],
      "text/plain": [
       "       avg\n",
       "0     58.6\n",
       "1     67.5\n",
       "2     76.9\n",
       "3     77.9\n",
       "4     76.8\n",
       "...    ...\n",
       "7045  59.4\n",
       "7046  56.1\n",
       "7047  61.3\n",
       "7048  63.0\n",
       "7049  66.0\n",
       "\n",
       "[7048 rows x 1 columns]"
      ]
     },
     "execution_count": 19,
     "metadata": {},
     "output_type": "execute_result"
    }
   ],
   "source": [
    "summer_df[['avg']]"
   ]
  },
  {
   "cell_type": "code",
   "execution_count": 52,
   "metadata": {},
   "outputs": [
    {
     "data": {
      "image/png": "[encoded data removed]",
      "text/plain": [
       "<Figure size 432x288 with 1 Axes>"
      ]
     },
     "metadata": {
      "needs_background": "light"
     },
     "output_type": "display_data"
    },
    {
     "data": {
      "image/png": "[encoded data removed]",
      "text/plain": [
       "<Figure size 432x288 with 1 Axes>"
      ]
     },
     "metadata": {
      "needs_background": "light"
     },
     "output_type": "display_data"
    }
   ],
   "source": [
    "# Not a good way to determine the right parameters for \n",
    "# AR\n",
    "# This code generates the p (order) parameter for the AR model\n",
    "from statsmodels.graphics.tsaplots import plot_pacf\n",
    "from statsmodels.graphics.tsaplots import plot_acf\n",
    "from statsmodels.tsa.arima_process import ArmaProcess\n",
    "from statsmodels.tsa.stattools import pacf\n",
    "plot_pacf(summer_avg_df['avg']);\n",
    "plot_acf(summer_avg_df['avg']);"
   ]
  },
  {
   "cell_type": "code",
   "execution_count": null,
   "metadata": {},
   "outputs": [],
   "source": []
  }
 ],
 "metadata": {
  "kernelspec": {
   "display_name": "Python 3 (ipykernel)",
   "language": "python",
   "name": "python3"
  },
  "language_info": {
   "codemirror_mode": {
    "name": "ipython",
    "version": 3
   },
   "file_extension": ".py",
   "mimetype": "text/x-python",
   "name": "python",
   "nbconvert_exporter": "python",
   "pygments_lexer": "ipython3",
   "version": "3.9.7"
  }
 },
 "nbformat": 4,
 "nbformat_minor": 2
}
