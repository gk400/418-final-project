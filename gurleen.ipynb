{
 "cells": [
  {
   "cell_type": "code",
   "execution_count": 96,
   "metadata": {},
   "outputs": [],
   "source": [
    "import pandas as pd\n",
    "import numpy as np\n",
    "import requests\n",
    "from bs4 import BeautifulSoup"
   ]
  },
  {
   "cell_type": "code",
   "execution_count": 102,
   "metadata": {},
   "outputs": [],
   "source": [
    "col_titles = [\"date\", \"min\", \"avg\", \"max\"]\n",
    "winter_df = pd.DataFrame(columns=col_titles)\n",
    "summer_df = pd.DataFrame(columns=col_titles)\n",
    "\n",
    "def getData(df, date):\n",
    "    \"\"\" Takes in a dataframe and the date and inserts the min, avg, and\n",
    "        max temperatures of that date to the dataframe. \"\"\"\n",
    "\n",
    "    url = requests.get(\"https://www.almanac.com/weather/history/IL/Chicago/\" + date)\n",
    "    content = url.text\n",
    "    # soup = BeautifulSoup(content, 'html5lib')\n",
    "    html = pd.read_html(content, header=0)[0]\n",
    "\n",
    "    html[\"date\"] = date\n",
    "    data = [html.iloc[0][2], html.iloc[0][1], html.iloc[1][1], html.iloc[2][1]]\n",
    "    df.loc[len(df)] = data\n",
    "\n",
    "# Summer range: 1946-06-21 to 2020-09-22\n",
    "# Winter range: 1945-12-21 to 2020-03-20\n",
    "years = range(1946,2021)\n",
    "summer_start = '06-21'\n",
    "summer_end = '09-22'\n",
    "winter_start = '12-21'\n",
    "winter_end = '03-20'\n",
    "summer_dates = []\n",
    "winter_dates = []\n",
    "for y in years:\n",
    "    ss = str(y) + '-' + summer_start\n",
    "    se = str(y) + '-' + summer_end\n",
    "    ws = str(y-1) + '-' + winter_start\n",
    "    we = str(y) + '-' + winter_end\n",
    "    summer = pd.date_range(ss, se, freq = 'D')\n",
    "    for s in summer:\n",
    "        summer_dates.append(str(s.date()))\n",
    "    winter = pd.date_range(ws, we, freq = 'D')\n",
    "    for w in winter:\n",
    "        winter_dates.append(str(w.date()))\n",
    "\n",
    "\n"
   ]
  },
  {
   "cell_type": "code",
   "execution_count": 98,
   "metadata": {},
   "outputs": [],
   "source": [
    "batch = range(0, len(winter_dates), 1000)\n",
    "for dates in [winter_dates[i : i + 1000] for i in batch]:\n",
    "    for date in dates:\n",
    "        getData(winter_df, date)\n",
    "winter_df.to_csv(\"winter_data.csv\")"
   ]
  },
  {
   "cell_type": "code",
   "execution_count": 106,
   "metadata": {},
   "outputs": [],
   "source": [
    "batch = range(0, len(summer_dates), 500)\n",
    "\n",
    "for dates in [summer_dates[i : i + 500] for i in batch]:\n",
    "    for date in dates:\n",
    "        getData(summer_df, date)       \n",
    "summer_df.to_csv(\"summer_data.csv\")\n"
   ]
  }
 ],
 "metadata": {
  "interpreter": {
   "hash": "aee8b7b246df8f9039afb4144a1f6fd8d2ca17a180786b69acc140d282b71a49"
  },
  "kernelspec": {
   "display_name": "Python 3.8.5 64-bit",
   "language": "python",
   "name": "python3"
  },
  "language_info": {
   "codemirror_mode": {
    "name": "ipython",
    "version": 3
   },
   "file_extension": ".py",
   "mimetype": "text/x-python",
   "name": "python",
   "nbconvert_exporter": "python",
   "pygments_lexer": "ipython3",
   "version": "3.8.5"
  },
  "orig_nbformat": 4
 },
 "nbformat": 4,
 "nbformat_minor": 2
}
