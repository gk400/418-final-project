{
 "cells": [
  {
   "cell_type": "code",
   "execution_count": null,
   "metadata": {},
   "outputs": [],
   "source": [
    "import pandas as pd\n",
    "import numpy as np\n",
    "import requests\n",
    "from bs4 import BeautifulSoup"
   ]
  },
  {
   "cell_type": "code",
   "execution_count": 78,
   "metadata": {},
   "outputs": [],
   "source": [
    "col_titles = [\"date\", \"min\", \"avg\", \"max\"]\n",
    "winter_df = pd.DataFrame(columns=col_titles)\n",
    "summer_df = pd.DataFrame(columns=col_titles)\n",
    "\n",
    "def getDf(df, date):\n",
    "    \"\"\" Takes in a dataframe and the date and inserts the min, avg, and\n",
    "        max temperatures of that date to the dataframe. \"\"\"\n",
    "\n",
    "    url = requests.get(\"https://www.almanac.com/weather/history/IL/Chicago/\" + date)\n",
    "    content = url.text\n",
    "    # soup = BeautifulSoup(content, 'html5lib')\n",
    "    html = pd.read_html(content, header=0)[0]\n",
    "\n",
    "    html[\"date\"] = date\n",
    "    data = [html.iloc[0][2], html.iloc[0][1], html.iloc[1][1], html.iloc[2][1]]\n",
    "    df.loc[len(df)] = data\n",
    "\n",
    "getDf(winter_df, \"1945-01-01\")\n",
    "getDf(winter_df, \"1945-01-02\")\n",
    "getDf(winter_df, \"1945-01-03\")\n",
    "getDf(winter_df, \"1945-01-04\")\n",
    "getDf(winter_df, \"1945-01-05\")\n",
    "getDf(winter_df, \"1945-01-06\")"
   ]
  },
  {
   "cell_type": "code",
   "execution_count": 80,
   "metadata": {},
   "outputs": [],
   "source": [
    "winter = [\"01, 02, 03, 12\"]\n",
    "summer = [\"06, 07, 08, 09\"]\n",
    "year_start = 1945\n",
    "year_end = 2021\n",
    "summer_dates = []\n",
    "winter_dates = []\n",
    "\n",
    "while year_start <= year_end:\n",
    "    start = \"-12-21\"\n",
    "    end = \"-03-28\"\n",
    "    dates = pd.date_range(start = str(year_start) + start, \n",
    "         end = str(year_start + 1) + end, freq ='D')\n",
    "    winter_dates.append(dates)\n",
    "    year_start += 1\n"
   ]
  }
 ],
 "metadata": {
  "interpreter": {
   "hash": "aee8b7b246df8f9039afb4144a1f6fd8d2ca17a180786b69acc140d282b71a49"
  },
  "kernelspec": {
   "display_name": "Python 3.8.5 64-bit",
   "language": "python",
   "name": "python3"
  },
  "language_info": {
   "codemirror_mode": {
    "name": "ipython",
    "version": 3
   },
   "file_extension": ".py",
   "mimetype": "text/x-python",
   "name": "python",
   "nbconvert_exporter": "python",
   "pygments_lexer": "ipython3",
   "version": "3.8.5"
  },
  "orig_nbformat": 4
 },
 "nbformat": 4,
 "nbformat_minor": 2
}
