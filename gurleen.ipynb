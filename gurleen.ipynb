{
 "cells": [
  {
   "cell_type": "code",
   "execution_count": 44,
   "metadata": {},
   "outputs": [],
   "source": [
    "import pandas as pd\n",
    "import numpy as np\n",
    "import matplotlib.pyplot as plt\n",
    "import requests\n",
    "from bs4 import BeautifulSoup"
   ]
  },
  {
   "cell_type": "code",
   "execution_count": 102,
   "metadata": {},
   "outputs": [],
   "source": [
    "col_titles = [\"date\", \"min\", \"avg\", \"max\"]\n",
    "winter_df = pd.DataFrame(columns=col_titles)\n",
    "summer_df = pd.DataFrame(columns=col_titles)\n",
    "\n",
    "def getData(df, date):\n",
    "    \"\"\" Takes in a dataframe and the date and inserts the min, avg, and\n",
    "        max temperatures of that date to the dataframe. \"\"\"\n",
    "\n",
    "    url = requests.get(\"https://www.almanac.com/weather/history/IL/Chicago/\" + date)\n",
    "    content = url.text\n",
    "    # soup = BeautifulSoup(content, 'html5lib')\n",
    "    html = pd.read_html(content, header=0)[0]\n",
    "\n",
    "    html[\"date\"] = date\n",
    "    data = [html.iloc[0][2], html.iloc[0][1], html.iloc[1][1], html.iloc[2][1]]\n",
    "    df.loc[len(df)] = data\n",
    "\n",
    "# Summer range: 1946-06-21 to 2020-09-22\n",
    "# Winter range: 1945-12-21 to 2020-03-20\n",
    "years = range(1946,2021)\n",
    "summer_start = '06-21'\n",
    "summer_end = '09-22'\n",
    "winter_start = '12-21'\n",
    "winter_end = '03-20'\n",
    "summer_dates = []\n",
    "winter_dates = []\n",
    "for y in years:\n",
    "    ss = str(y) + '-' + summer_start\n",
    "    se = str(y) + '-' + summer_end\n",
    "    ws = str(y-1) + '-' + winter_start\n",
    "    we = str(y) + '-' + winter_end\n",
    "    summer = pd.date_range(ss, se, freq = 'D')\n",
    "    for s in summer:\n",
    "        summer_dates.append(str(s.date()))\n",
    "    winter = pd.date_range(ws, we, freq = 'D')\n",
    "    for w in winter:\n",
    "        winter_dates.append(str(w.date()))"
   ]
  },
  {
   "cell_type": "code",
   "execution_count": 98,
   "metadata": {},
   "outputs": [],
   "source": [
    "batch = range(0, len(winter_dates), 1000)\n",
    "for dates in [winter_dates[i : i + 1000] for i in batch]:\n",
    "    for date in dates:\n",
    "        getData(winter_df, date)\n",
    "winter_df.to_csv(\"winter_data.csv\")"
   ]
  },
  {
   "cell_type": "code",
   "execution_count": 106,
   "metadata": {},
   "outputs": [],
   "source": [
    "batch = range(0, len(summer_dates), 500)\n",
    "\n",
    "for dates in [summer_dates[i : i + 500] for i in batch]:\n",
    "    for date in dates:\n",
    "        getData(summer_df, date)       \n",
    "summer_df.to_csv(\"summer_data.csv\")\n"
   ]
  },
  {
   "cell_type": "code",
   "execution_count": 25,
   "metadata": {},
   "outputs": [],
   "source": [
    "winter_df = pd.read_csv('winter_data.csv', index_col=0)\n",
    "summer_df = pd.read_csv('summer_data.csv', index_col=0)"
   ]
  },
  {
   "cell_type": "code",
   "execution_count": 26,
   "metadata": {},
   "outputs": [],
   "source": [
    "# Remove ºF from temperature data\n",
    "def removeUnit(val):\n",
    "    ''' Removes the unit from the value. Returns value.'''\n",
    "    new = str(val)\n",
    "    new = new[ : new.find(' ')]\n",
    "    return new\n",
    "\n",
    "winter_df['min'] = winter_df['min'].apply(removeUnit)\n",
    "winter_df['avg'] = winter_df['avg'].apply(removeUnit)\n",
    "winter_df['max'] = winter_df['max'].apply(removeUnit)\n",
    "summer_df['min'] = summer_df['min'].apply(removeUnit)\n",
    "summer_df['avg'] = summer_df['avg'].apply(removeUnit)\n",
    "summer_df['max'] = summer_df['max'].apply(removeUnit)\n",
    "\n",
    "# Create year column by extracting year from date column\n",
    "winter_df['date'] = pd.to_datetime(winter_df['date'])\n",
    "summer_df['date'] = pd.to_datetime(summer_df['date'])\n",
    "winter_df['year'] = pd.DatetimeIndex(winter_df['date']).year\n",
    "summer_df['year'] = pd.DatetimeIndex(summer_df['date']).year\n",
    "\n",
    "winter_df['min'] = pd.to_numeric(winter_df['min'])\n",
    "winter_df['avg'] = pd.to_numeric(winter_df['avg'])\n",
    "winter_df['max'] = pd.to_numeric(winter_df['max'])\n",
    "summer_df['min'] = pd.to_numeric(summer_df['min'])\n",
    "summer_df['avg'] = pd.to_numeric(summer_df['avg'])\n",
    "summer_df['max'] = pd.to_numeric(summer_df['max'])\n",
    "\n",
    "winter_min_summary_df = winter_df.groupby(['year'])['min'].describe()\n",
    "winter_min_summary_df.to_csv('winter_min_summary')\n",
    "winter_avg_summary_df = winter_df.groupby(['year'])['avg'].describe()\n",
    "winter_avg_summary_df.to_csv('winter_avg_summary')\n",
    "winter_max_summary_df = winter_df.groupby(['year'])['max'].describe()\n",
    "winter_max_summary_df.to_csv('winter_max_summary')\n",
    "summer_min_summary_df = summer_df.groupby(['year'])['min'].describe()\n",
    "summer_min_summary_df.to_csv('summer_min_summary')\n",
    "summer_avg_summary_df = summer_df.groupby(['year'])['avg'].describe()\n",
    "summer_avg_summary_df.to_csv('summer_avg_summary')\n",
    "summer_max_summary_df = summer_df.groupby(['year'])['max'].describe()\n",
    "summer_max_summary_df.to_csv('summer_max_summary')"
   ]
  },
  {
   "cell_type": "code",
   "execution_count": 40,
   "metadata": {},
   "outputs": [],
   "source": [
    "from statsmodels.tsa.statespace.sarimax import SARIMAX\n",
    "from statsmodels.tsa.arima.model import ARIMA\n",
    "from statsmodels.tsa.stattools import adfuller\n",
    "from statsmodels.stats.diagnostic import acorr_ljungbox\n",
    "from pmdarima import auto_arima\n",
    "from statsmodels.graphics.tsaplots import plot_pacf\n",
    "from statsmodels.graphics.tsaplots import plot_acf\n",
    "from statsmodels.tsa.stattools import pacf\n",
    "import warnings\n",
    "warnings.filterwarnings('ignore')"
   ]
  },
  {
   "cell_type": "code",
   "execution_count": 7,
   "metadata": {},
   "outputs": [],
   "source": [
    "# Taken from https://www.statsmodels.org/dev/generated/statsmodels.tsa.stattools.adfuller.html\n",
    "def ad_test(dataset):\n",
    "     dftest = adfuller(dataset, autolag = 'AIC')\n",
    "     print(\"1. ADF : \",dftest[0])\n",
    "     print(\"2. P-Value : \", dftest[1])\n",
    "     print(\"3. Num Of Lags : \", dftest[2])\n",
    "     print(\"4. Num Of Observations Used For ADF Regression:\", dftest[3])\n",
    "     print(\"5. Critical Values :\")\n",
    "     for key, val in dftest[4].items():\n",
    "         print(\"\\t\",key, \": \", val)"
   ]
  },
  {
   "cell_type": "code",
   "execution_count": 79,
   "metadata": {},
   "outputs": [
    {
     "data": {
      "text/html": [
       "<div>\n",
       "<style scoped>\n",
       "    .dataframe tbody tr th:only-of-type {\n",
       "        vertical-align: middle;\n",
       "    }\n",
       "\n",
       "    .dataframe tbody tr th {\n",
       "        vertical-align: top;\n",
       "    }\n",
       "\n",
       "    .dataframe thead th {\n",
       "        text-align: right;\n",
       "    }\n",
       "</style>\n",
       "<table border=\"1\" class=\"dataframe\">\n",
       "  <thead>\n",
       "    <tr style=\"text-align: right;\">\n",
       "      <th></th>\n",
       "      <th>avg</th>\n",
       "    </tr>\n",
       "    <tr>\n",
       "      <th>date</th>\n",
       "      <th></th>\n",
       "    </tr>\n",
       "  </thead>\n",
       "  <tbody>\n",
       "    <tr>\n",
       "      <th>1945-12-21</th>\n",
       "      <td>6.0</td>\n",
       "    </tr>\n",
       "    <tr>\n",
       "      <th>1945-12-22</th>\n",
       "      <td>7.4</td>\n",
       "    </tr>\n",
       "    <tr>\n",
       "      <th>1945-12-23</th>\n",
       "      <td>19.2</td>\n",
       "    </tr>\n",
       "    <tr>\n",
       "      <th>1945-12-24</th>\n",
       "      <td>23.6</td>\n",
       "    </tr>\n",
       "    <tr>\n",
       "      <th>1945-12-25</th>\n",
       "      <td>31.8</td>\n",
       "    </tr>\n",
       "    <tr>\n",
       "      <th>...</th>\n",
       "      <td>...</td>\n",
       "    </tr>\n",
       "    <tr>\n",
       "      <th>2020-03-16</th>\n",
       "      <td>35.6</td>\n",
       "    </tr>\n",
       "    <tr>\n",
       "      <th>2020-03-17</th>\n",
       "      <td>38.9</td>\n",
       "    </tr>\n",
       "    <tr>\n",
       "      <th>2020-03-18</th>\n",
       "      <td>37.9</td>\n",
       "    </tr>\n",
       "    <tr>\n",
       "      <th>2020-03-19</th>\n",
       "      <td>39.9</td>\n",
       "    </tr>\n",
       "    <tr>\n",
       "      <th>2020-03-20</th>\n",
       "      <td>46.6</td>\n",
       "    </tr>\n",
       "  </tbody>\n",
       "</table>\n",
       "<p>6763 rows × 1 columns</p>\n",
       "</div>"
      ],
      "text/plain": [
       "             avg\n",
       "date            \n",
       "1945-12-21   6.0\n",
       "1945-12-22   7.4\n",
       "1945-12-23  19.2\n",
       "1945-12-24  23.6\n",
       "1945-12-25  31.8\n",
       "...          ...\n",
       "2020-03-16  35.6\n",
       "2020-03-17  38.9\n",
       "2020-03-18  37.9\n",
       "2020-03-19  39.9\n",
       "2020-03-20  46.6\n",
       "\n",
       "[6763 rows x 1 columns]"
      ]
     },
     "execution_count": 79,
     "metadata": {},
     "output_type": "execute_result"
    }
   ],
   "source": [
    "winter_avg_df = winter_df[['date', 'avg']]\n",
    "winter_avg_df.set_index('date', inplace = True)\n",
    "winter_avg_df"
   ]
  },
  {
   "cell_type": "code",
   "execution_count": 28,
   "metadata": {},
   "outputs": [
    {
     "name": "stdout",
     "output_type": "stream",
     "text": [
      "1. ADF :  -19.018783656883496\n",
      "2. P-Value :  0.0\n",
      "3. Num Of Lags :  7\n",
      "4. Num Of Observations Used For ADF Regression: 6755\n",
      "5. Critical Values :\n",
      "\t 1% :  -3.4313184362272238\n",
      "\t 5% :  -2.8619679685673516\n",
      "\t 10% :  -2.5669978039733707\n"
     ]
    }
   ],
   "source": [
    "ad_test(winter_avg_df)"
   ]
  },
  {
   "cell_type": "markdown",
   "metadata": {},
   "source": [
    "p-value < 0.05; therefore, data is stationary. Proceed with using ARIMA"
   ]
  },
  {
   "cell_type": "code",
   "execution_count": 29,
   "metadata": {},
   "outputs": [
    {
     "name": "stdout",
     "output_type": "stream",
     "text": [
      "Performing stepwise search to minimize aic\n",
      " ARIMA(2,0,2)(0,0,0)[0] intercept   : AIC=45749.420, Time=3.56 sec\n",
      " ARIMA(0,0,0)(0,0,0)[0] intercept   : AIC=51972.050, Time=0.10 sec\n",
      " ARIMA(1,0,0)(0,0,0)[0] intercept   : AIC=46079.502, Time=0.25 sec\n",
      " ARIMA(0,0,1)(0,0,0)[0] intercept   : AIC=47580.399, Time=0.54 sec\n",
      " ARIMA(0,0,0)(0,0,0)[0]             : AIC=65813.867, Time=0.07 sec\n",
      " ARIMA(1,0,2)(0,0,0)[0] intercept   : AIC=45782.313, Time=1.38 sec\n",
      " ARIMA(2,0,1)(0,0,0)[0] intercept   : AIC=45828.769, Time=1.67 sec\n",
      " ARIMA(3,0,2)(0,0,0)[0] intercept   : AIC=45751.419, Time=5.10 sec\n",
      " ARIMA(2,0,3)(0,0,0)[0] intercept   : AIC=45751.448, Time=5.31 sec\n",
      " ARIMA(1,0,1)(0,0,0)[0] intercept   : AIC=45869.855, Time=0.92 sec\n",
      " ARIMA(1,0,3)(0,0,0)[0] intercept   : AIC=45753.960, Time=2.15 sec\n",
      " ARIMA(3,0,1)(0,0,0)[0] intercept   : AIC=45772.095, Time=2.99 sec\n",
      " ARIMA(3,0,3)(0,0,0)[0] intercept   : AIC=45751.556, Time=5.43 sec\n",
      " ARIMA(2,0,2)(0,0,0)[0]             : AIC=inf, Time=2.05 sec\n",
      "\n",
      "Best model:  ARIMA(2,0,2)(0,0,0)[0] intercept\n",
      "Total fit time: 31.527 seconds\n"
     ]
    }
   ],
   "source": [
    "# Finds the ideal p,d,q parameters\n",
    "# Set d = 0 because data is stationary\n",
    "stepwise_fit = auto_arima(winter_avg_df, trace=True, suppress_warnings=True, d=0)"
   ]
  },
  {
   "cell_type": "code",
   "execution_count": 30,
   "metadata": {},
   "outputs": [
    {
     "name": "stdout",
     "output_type": "stream",
     "text": [
      "                               SARIMAX Results                                \n",
      "==============================================================================\n",
      "Dep. Variable:                    avg   No. Observations:                 6763\n",
      "Model:                 ARIMA(2, 0, 2)   Log Likelihood              -22868.710\n",
      "Date:                Sun, 24 Apr 2022   AIC                          45749.420\n",
      "Time:                        19:28:26   BIC                          45790.335\n",
      "Sample:                             0   HQIC                         45763.543\n",
      "                               - 6763                                         \n",
      "Covariance Type:                  opg                                         \n",
      "==============================================================================\n",
      "                 coef    std err          z      P>|z|      [0.025      0.975]\n",
      "------------------------------------------------------------------------------\n",
      "const         29.2966      0.472     62.100      0.000      28.372      30.221\n",
      "ar.L1          1.2469      0.052     24.081      0.000       1.145       1.348\n",
      "ar.L2         -0.3161      0.040     -7.912      0.000      -0.394      -0.238\n",
      "ma.L1         -0.3575      0.051     -7.060      0.000      -0.457      -0.258\n",
      "ma.L2         -0.2847      0.015    -19.575      0.000      -0.313      -0.256\n",
      "sigma2        50.6460      0.690     73.351      0.000      49.293      51.999\n",
      "===================================================================================\n",
      "Ljung-Box (L1) (Q):                   0.00   Jarque-Bera (JB):              1096.59\n",
      "Prob(Q):                              0.98   Prob(JB):                         0.00\n",
      "Heteroskedasticity (H):               0.94   Skew:                            -0.58\n",
      "Prob(H) (two-sided):                  0.13   Kurtosis:                         4.60\n",
      "===================================================================================\n",
      "\n",
      "Warnings:\n",
      "[1] Covariance matrix calculated using the outer product of gradients (complex-step).\n"
     ]
    }
   ],
   "source": [
    "best_model = ARIMA(winter_df['avg'], order=(2,0,2)).fit()\n",
    "print(best_model.summary())"
   ]
  },
  {
   "cell_type": "code",
   "execution_count": 38,
   "metadata": {},
   "outputs": [
    {
     "name": "stdout",
     "output_type": "stream",
     "text": [
      "Ljung-Box test: lb_stat\n",
      "p-value: lb_pvalue\n"
     ]
    },
    {
     "data": {
      "text/html": [
       "<div>\n",
       "<style scoped>\n",
       "    .dataframe tbody tr th:only-of-type {\n",
       "        vertical-align: middle;\n",
       "    }\n",
       "\n",
       "    .dataframe tbody tr th {\n",
       "        vertical-align: top;\n",
       "    }\n",
       "\n",
       "    .dataframe thead th {\n",
       "        text-align: right;\n",
       "    }\n",
       "</style>\n",
       "<table border=\"1\" class=\"dataframe\">\n",
       "  <thead>\n",
       "    <tr style=\"text-align: right;\">\n",
       "      <th></th>\n",
       "      <th>lb_stat</th>\n",
       "      <th>lb_pvalue</th>\n",
       "    </tr>\n",
       "  </thead>\n",
       "  <tbody>\n",
       "    <tr>\n",
       "      <th>10</th>\n",
       "      <td>2.109686</td>\n",
       "      <td>0.995428</td>\n",
       "    </tr>\n",
       "  </tbody>\n",
       "</table>\n",
       "</div>"
      ],
      "text/plain": [
       "     lb_stat  lb_pvalue\n",
       "10  2.109686   0.995428"
      ]
     },
     "execution_count": 38,
     "metadata": {},
     "output_type": "execute_result"
    }
   ],
   "source": [
    "# Ljung-Box test\n",
    "acorr_ljungbox(best_model.resid, lags=[10], return_df=True)"
   ]
  },
  {
   "cell_type": "markdown",
   "metadata": {},
   "source": [
    "p-value is > 0.05, so the residuals are not correlated."
   ]
  },
  {
   "cell_type": "code",
   "execution_count": 47,
   "metadata": {},
   "outputs": [
    {
     "data": {
      "image/png": "[encoded data removed]",
      "text/plain": [
       "<Figure size 432x288 with 1 Axes>"
      ]
     },
     "metadata": {
      "needs_background": "light"
     },
     "output_type": "display_data"
    },
    {
     "data": {
      "image/png": "[encoded data removed]",
      "text/plain": [
       "<Figure size 432x288 with 1 Axes>"
      ]
     },
     "metadata": {
      "needs_background": "light"
     },
     "output_type": "display_data"
    },
    {
     "data": {
      "image/png": "[encoded data removed]",
      "text/plain": [
       "<Figure size 432x288 with 2 Axes>"
      ]
     },
     "metadata": {
      "needs_background": "light"
     },
     "output_type": "display_data"
    }
   ],
   "source": [
    "plot_pacf(best_model.resid)\n",
    "plot_acf(best_model.resid)\n",
    "\n",
    "residuals = pd.DataFrame(best_model.resid)\n",
    "fig, ax = plt.subplots(1,2)\n",
    "residuals.plot(title=\"Residuals\", ax=ax[0])\n",
    "residuals.plot(kind='kde', title='Density', ax=ax[1])\n",
    "plt.show()"
   ]
  },
  {
   "cell_type": "code",
   "execution_count": 88,
   "metadata": {},
   "outputs": [
    {
     "name": "stderr",
     "output_type": "stream",
     "text": [
      "WARNING:pystan:numpy.ndarray size changed, may indicate binary incompatibility. Expected 96 from C header, got 80 from PyObject\n",
      "WARNING:pystan:Something went wrong while unpickling the StanModel. Consider recompiling.\n",
      "INFO:fbprophet:Disabling daily seasonality. Run prophet with daily_seasonality=True to override this.\n"
     ]
    },
    {
     "ename": "AttributeError",
     "evalue": "'StanModel' object has no attribute 'fit_class'",
     "output_type": "error",
     "traceback": [
      "\u001b[0;31m---------------------------------------------------------------------------\u001b[0m",
      "\u001b[0;31mAttributeError\u001b[0m                            Traceback (most recent call last)",
      "\u001b[1;32m/Users/gurleenkaur/Downloads/418_final_project/418-final-project/gurleen.ipynb Cell 17'\u001b[0m in \u001b[0;36m<module>\u001b[0;34m\u001b[0m\n\u001b[1;32m      <a href='vscode-notebook-cell:/Users/gurleenkaur/Downloads/418_final_project/418-final-project/gurleen.ipynb#ch0000015?line=6'>7</a>\u001b[0m model \u001b[39m=\u001b[39m Prophet()\n\u001b[1;32m      <a href='vscode-notebook-cell:/Users/gurleenkaur/Downloads/418_final_project/418-final-project/gurleen.ipynb#ch0000015?line=7'>8</a>\u001b[0m \u001b[39m# fit the model\u001b[39;00m\n\u001b[1;32m      <a href='vscode-notebook-cell:/Users/gurleenkaur/Downloads/418_final_project/418-final-project/gurleen.ipynb#ch0000015?line=8'>9</a>\u001b[0m \u001b[39m# winter_avg_df['ds'] = winter_avg_df.index\u001b[39;00m\n\u001b[1;32m     <a href='vscode-notebook-cell:/Users/gurleenkaur/Downloads/418_final_project/418-final-project/gurleen.ipynb#ch0000015?line=9'>10</a>\u001b[0m \u001b[39m# winter_avg_df.columns = ['y', 'ds']\u001b[39;00m\n\u001b[0;32m---> <a href='vscode-notebook-cell:/Users/gurleenkaur/Downloads/418_final_project/418-final-project/gurleen.ipynb#ch0000015?line=10'>11</a>\u001b[0m model\u001b[39m.\u001b[39;49mfit(winter_avg_df)\n",
      "File \u001b[0;32m/Library/Frameworks/Python.framework/Versions/3.8/lib/python3.8/site-packages/fbprophet/forecaster.py:1166\u001b[0m, in \u001b[0;36mProphet.fit\u001b[0;34m(self, df, **kwargs)\u001b[0m\n\u001b[1;32m   <a href='file:///Library/Frameworks/Python.framework/Versions/3.8/lib/python3.8/site-packages/fbprophet/forecaster.py?line=1163'>1164</a>\u001b[0m     \u001b[39mself\u001b[39m\u001b[39m.\u001b[39mparams \u001b[39m=\u001b[39m \u001b[39mself\u001b[39m\u001b[39m.\u001b[39mstan_backend\u001b[39m.\u001b[39msampling(stan_init, dat, \u001b[39mself\u001b[39m\u001b[39m.\u001b[39mmcmc_samples, \u001b[39m*\u001b[39m\u001b[39m*\u001b[39mkwargs)\n\u001b[1;32m   <a href='file:///Library/Frameworks/Python.framework/Versions/3.8/lib/python3.8/site-packages/fbprophet/forecaster.py?line=1164'>1165</a>\u001b[0m \u001b[39melse\u001b[39;00m:\n\u001b[0;32m-> <a href='file:///Library/Frameworks/Python.framework/Versions/3.8/lib/python3.8/site-packages/fbprophet/forecaster.py?line=1165'>1166</a>\u001b[0m     \u001b[39mself\u001b[39m\u001b[39m.\u001b[39mparams \u001b[39m=\u001b[39m \u001b[39mself\u001b[39;49m\u001b[39m.\u001b[39;49mstan_backend\u001b[39m.\u001b[39;49mfit(stan_init, dat, \u001b[39m*\u001b[39;49m\u001b[39m*\u001b[39;49mkwargs)\n\u001b[1;32m   <a href='file:///Library/Frameworks/Python.framework/Versions/3.8/lib/python3.8/site-packages/fbprophet/forecaster.py?line=1167'>1168</a>\u001b[0m \u001b[39m# If no changepoints were requested, replace delta with 0s\u001b[39;00m\n\u001b[1;32m   <a href='file:///Library/Frameworks/Python.framework/Versions/3.8/lib/python3.8/site-packages/fbprophet/forecaster.py?line=1168'>1169</a>\u001b[0m \u001b[39mif\u001b[39;00m \u001b[39mlen\u001b[39m(\u001b[39mself\u001b[39m\u001b[39m.\u001b[39mchangepoints) \u001b[39m==\u001b[39m \u001b[39m0\u001b[39m:\n\u001b[1;32m   <a href='file:///Library/Frameworks/Python.framework/Versions/3.8/lib/python3.8/site-packages/fbprophet/forecaster.py?line=1169'>1170</a>\u001b[0m     \u001b[39m# Fold delta into the base rate k\u001b[39;00m\n",
      "File \u001b[0;32m/Library/Frameworks/Python.framework/Versions/3.8/lib/python3.8/site-packages/fbprophet/models.py:245\u001b[0m, in \u001b[0;36mPyStanBackend.fit\u001b[0;34m(self, stan_init, stan_data, **kwargs)\u001b[0m\n\u001b[1;32m    <a href='file:///Library/Frameworks/Python.framework/Versions/3.8/lib/python3.8/site-packages/fbprophet/models.py?line=242'>243</a>\u001b[0m args\u001b[39m.\u001b[39mupdate(kwargs)\n\u001b[1;32m    <a href='file:///Library/Frameworks/Python.framework/Versions/3.8/lib/python3.8/site-packages/fbprophet/models.py?line=243'>244</a>\u001b[0m \u001b[39mtry\u001b[39;00m:\n\u001b[0;32m--> <a href='file:///Library/Frameworks/Python.framework/Versions/3.8/lib/python3.8/site-packages/fbprophet/models.py?line=244'>245</a>\u001b[0m     \u001b[39mself\u001b[39m\u001b[39m.\u001b[39mstan_fit \u001b[39m=\u001b[39m \u001b[39mself\u001b[39;49m\u001b[39m.\u001b[39;49mmodel\u001b[39m.\u001b[39;49moptimizing(\u001b[39m*\u001b[39;49m\u001b[39m*\u001b[39;49margs)\n\u001b[1;32m    <a href='file:///Library/Frameworks/Python.framework/Versions/3.8/lib/python3.8/site-packages/fbprophet/models.py?line=245'>246</a>\u001b[0m \u001b[39mexcept\u001b[39;00m \u001b[39mRuntimeError\u001b[39;00m:\n\u001b[1;32m    <a href='file:///Library/Frameworks/Python.framework/Versions/3.8/lib/python3.8/site-packages/fbprophet/models.py?line=246'>247</a>\u001b[0m     \u001b[39m# Fall back on Newton\u001b[39;00m\n\u001b[1;32m    <a href='file:///Library/Frameworks/Python.framework/Versions/3.8/lib/python3.8/site-packages/fbprophet/models.py?line=247'>248</a>\u001b[0m     logger\u001b[39m.\u001b[39mwarning(\n\u001b[1;32m    <a href='file:///Library/Frameworks/Python.framework/Versions/3.8/lib/python3.8/site-packages/fbprophet/models.py?line=248'>249</a>\u001b[0m         \u001b[39m'\u001b[39m\u001b[39mOptimization terminated abnormally. Falling back to Newton.\u001b[39m\u001b[39m'\u001b[39m\n\u001b[1;32m    <a href='file:///Library/Frameworks/Python.framework/Versions/3.8/lib/python3.8/site-packages/fbprophet/models.py?line=249'>250</a>\u001b[0m     )\n",
      "File \u001b[0;32m/Library/Frameworks/Python.framework/Versions/3.8/lib/python3.8/site-packages/pystan/model.py:542\u001b[0m, in \u001b[0;36mStanModel.optimizing\u001b[0;34m(self, data, seed, init, sample_file, algorithm, verbose, as_vector, **kwargs)\u001b[0m\n\u001b[1;32m    <a href='file:///Library/Frameworks/Python.framework/Versions/3.8/lib/python3.8/site-packages/pystan/model.py?line=539'>540</a>\u001b[0m     data \u001b[39m=\u001b[39m {}\n\u001b[1;32m    <a href='file:///Library/Frameworks/Python.framework/Versions/3.8/lib/python3.8/site-packages/pystan/model.py?line=540'>541</a>\u001b[0m seed \u001b[39m=\u001b[39m pystan\u001b[39m.\u001b[39mmisc\u001b[39m.\u001b[39m_check_seed(seed)\n\u001b[0;32m--> <a href='file:///Library/Frameworks/Python.framework/Versions/3.8/lib/python3.8/site-packages/pystan/model.py?line=541'>542</a>\u001b[0m fit \u001b[39m=\u001b[39m \u001b[39mself\u001b[39;49m\u001b[39m.\u001b[39;49mfit_class(data, seed)\n\u001b[1;32m    <a href='file:///Library/Frameworks/Python.framework/Versions/3.8/lib/python3.8/site-packages/pystan/model.py?line=543'>544</a>\u001b[0m m_pars \u001b[39m=\u001b[39m fit\u001b[39m.\u001b[39m_get_param_names()\n\u001b[1;32m    <a href='file:///Library/Frameworks/Python.framework/Versions/3.8/lib/python3.8/site-packages/pystan/model.py?line=544'>545</a>\u001b[0m p_dims \u001b[39m=\u001b[39m fit\u001b[39m.\u001b[39m_get_param_dims()\n",
      "\u001b[0;31mAttributeError\u001b[0m: 'StanModel' object has no attribute 'fit_class'"
     ]
    }
   ],
   "source": [
    "# model = ARIMA(winter_avg_df['avg'], order=(2,0,2))\n",
    "# results_ARIMA = model.fit()\n",
    "\n",
    "from fbprophet import Prophet\n",
    "import pystan\n",
    "# define the model\n",
    "model = Prophet()\n",
    "# fit the model\n",
    "# winter_avg_df['ds'] = winter_avg_df.index\n",
    "# winter_avg_df.columns = ['y', 'ds']\n",
    "model.fit(winter_avg_df)\n",
    "# # define the period for which we want a prediction\n",
    "# future = list()\n",
    "# for i in range(1, 13):\n",
    "#     date = '1968-%02d' % i\n",
    "#     future.append([date])\n",
    "#     print(date)\n",
    "# future = DataFrame(future)\n",
    "# future.columns = ['ds']\n",
    "# future['ds']= to_datetime(future['ds'])\n",
    "# # use the model to make a forecast\n",
    "# forecast = model.predict(future)\n",
    "# # summarize the forecast\n",
    "# print(forecast[['ds', 'yhat', 'yhat_lower', 'yhat_upper']].head())\n",
    "# # plot forecast\n",
    "# model.plot(forecast)\n",
    "# pyplot.show()\n",
    "\n",
    "# plt.show()\n",
    "# plt.figure(figsize=(20, 10))\n",
    "# plt.plot(winter_avg_df['avg'])\n",
    "# plt.plot(results_ARIMA.fittedvalues, color='red')"
   ]
  }
 ],
 "metadata": {
  "interpreter": {
   "hash": "aee8b7b246df8f9039afb4144a1f6fd8d2ca17a180786b69acc140d282b71a49"
  },
  "kernelspec": {
   "display_name": "Python 3 (ipykernel)",
   "language": "python",
   "name": "python3"
  },
  "language_info": {
   "codemirror_mode": {
    "name": "ipython",
    "version": 3
   },
   "file_extension": ".py",
   "mimetype": "text/x-python",
   "name": "python",
   "nbconvert_exporter": "python",
   "pygments_lexer": "ipython3",
   "version": "3.8.5"
  }
 },
 "nbformat": 4,
 "nbformat_minor": 2
}
